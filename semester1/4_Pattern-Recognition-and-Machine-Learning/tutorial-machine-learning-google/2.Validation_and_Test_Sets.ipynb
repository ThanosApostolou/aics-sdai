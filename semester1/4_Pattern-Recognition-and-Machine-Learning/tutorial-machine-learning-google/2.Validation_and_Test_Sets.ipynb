{
  "cells": [
    {
      "cell_type": "code",
      "execution_count": 1,
      "metadata": {
        "cellView": "form",
        "id": "hMqWDc_m6rUC"
      },
      "outputs": [],
      "source": [
        "#@title Copyright 2020 Google LLC. Double-click here for license information.\n",
        "# Licensed under the Apache License, Version 2.0 (the \"License\");\n",
        "# you may not use this file except in compliance with the License.\n",
        "# You may obtain a copy of the License at\n",
        "#\n",
        "# https://www.apache.org/licenses/LICENSE-2.0\n",
        "#\n",
        "# Unless required by applicable law or agreed to in writing, software\n",
        "# distributed under the License is distributed on an \"AS IS\" BASIS,\n",
        "# WITHOUT WARRANTIES OR CONDITIONS OF ANY KIND, either express or implied.\n",
        "# See the License for the specific language governing permissions and\n",
        "# limitations under the License."
      ]
    },
    {
      "cell_type": "markdown",
      "metadata": {
        "id": "T4r2z30vJSbA"
      },
      "source": [
        "# Colabs\n",
        "\n",
        "Machine Learning Crash Course uses Colaboratories (Colabs) for all programming exercises. Colab is Google's implementation of [Jupyter Notebook](https://jupyter.org/). For more information about Colabs and how to use them, go to [Welcome to Colaboratory](https://research.google.com/colaboratory)."
      ]
    },
    {
      "cell_type": "markdown",
      "metadata": {
        "id": "4f3CKqFUqL2-"
      },
      "source": [
        "# Validation Sets and Test Sets\n",
        "\n",
        "The previous Colab exercises evaluated the trained model against the training set, which does not provide a strong signal about the quality of your model. In this Colab, you'll experiment with validation sets and test sets.\n",
        "\n",
        "\n",
        "\n",
        "\n"
      ]
    },
    {
      "cell_type": "markdown",
      "metadata": {
        "id": "3spZH_kNkWWX"
      },
      "source": [
        "## Learning objectives\n",
        "\n",
        "After doing this Colab, you'll know how to do the following:\n",
        "\n",
        "  * Split a [training set](https://developers.google.com/machine-learning/glossary/#training_set) into a smaller training set and a [validation set](https://developers.google.com/machine-learning/glossary/#validation_set).\n",
        "  * Analyze deltas between training set and validation set results.\n",
        "  * Test the trained model with a [test set](https://developers.google.com/machine-learning/glossary/#test_set) to determine whether your trained model is [overfitting](https://developers.google.com/machine-learning/glossary/#overfitting).\n",
        "  * Detect and fix a common training problem."
      ]
    },
    {
      "cell_type": "markdown",
      "metadata": {
        "id": "gV82DJO3kWpk"
      },
      "source": [
        "## The dataset\n",
        "\n",
        "As in the previous exercise, this exercise uses the [California Housing dataset](https://developers.google.com/machine-learning/crash-course/california-housing-data-description) to predict the `median_house_value` at the city block level.  Like many \"famous\" datasets, the California Housing Dataset actually consists of two separate datasets, each living in separate .csv files:\n",
        "\n",
        "* The training set is in `california_housing_train.csv`.\n",
        "* The test set is in `california_housing_test.csv`.\n",
        "\n",
        "You'll create the validation set by dividing the downloaded training set into two parts:\n",
        "\n",
        "* a smaller training set  \n",
        "* a validation set"
      ]
    },
    {
      "cell_type": "markdown",
      "metadata": {
        "id": "S8gm6BpqRRuh"
      },
      "source": [
        "## Import relevant modules\n",
        "\n",
        "This first code cell imports the necessary modules and sets a few display options."
      ]
    },
    {
      "cell_type": "code",
      "execution_count": 2,
      "metadata": {
        "cellView": "form",
        "id": "9D8GgUovHbG0"
      },
      "outputs": [],
      "source": [
        "#@title Import modules\n",
        "import numpy as np\n",
        "import pandas as pd\n",
        "import tensorflow as tf\n",
        "from matplotlib import pyplot as plt\n",
        "\n",
        "pd.options.display.max_rows = 10\n",
        "pd.options.display.float_format = \"{:.1f}\".format"
      ]
    },
    {
      "cell_type": "markdown",
      "metadata": {
        "id": "xjvrrClQeAJu"
      },
      "source": [
        "## Load the datasets from the internet\n",
        "\n",
        "The following code cell loads the separate .csv files and creates the following two pandas DataFrames:\n",
        "\n",
        "* `train_df`, which contains the training set.\n",
        "* `test_df`, which contains the test set.\n",
        "\n"
      ]
    },
    {
      "cell_type": "code",
      "execution_count": 3,
      "metadata": {
        "id": "zUnTc_wfd_o3"
      },
      "outputs": [],
      "source": [
        "train_df = pd.read_csv(\"https://download.mlcc.google.com/mledu-datasets/california_housing_train.csv\")\n",
        "test_df = pd.read_csv(\"https://download.mlcc.google.com/mledu-datasets/california_housing_test.csv\")"
      ]
    },
    {
      "cell_type": "markdown",
      "metadata": {
        "id": "P_KBdj2M_yjM"
      },
      "source": [
        "## Scale the label values\n",
        "\n",
        "The following code cell scales the `median_house_value`. \n",
        "See the previous Colab exercise for details."
      ]
    },
    {
      "cell_type": "code",
      "execution_count": 4,
      "metadata": {
        "id": "3hc7QQhaAFXD"
      },
      "outputs": [],
      "source": [
        "scale_factor = 1000.0\n",
        "\n",
        "# Scale the training set's label.\n",
        "train_df[\"median_house_value\"] /= scale_factor \n",
        "\n",
        "# Scale the test set's label\n",
        "test_df[\"median_house_value\"] /= scale_factor"
      ]
    },
    {
      "cell_type": "markdown",
      "metadata": {
        "id": "FhessIIV8VPc"
      },
      "source": [
        "## Load the functions that build and train a model\n",
        "\n",
        "The following code cell defines two functions:\n",
        "\n",
        "  * `build_model`, which defines the model's topography.\n",
        "  * `train_model`, which will ultimately train the model, outputting not only the loss value for the training set but also the loss value for the validation set. \n",
        "\n",
        "Since you don't need to understand model building code right now, we've hidden this code cell. As always, you must run hidden code cells."
      ]
    },
    {
      "cell_type": "code",
      "execution_count": 5,
      "metadata": {
        "cellView": "form",
        "id": "bvonhK857msj"
      },
      "outputs": [
        {
          "name": "stdout",
          "output_type": "stream",
          "text": [
            "Defined the build_model and train_model functions.\n"
          ]
        }
      ],
      "source": [
        "#@title Define the functions that build and train a model\n",
        "def build_model(my_learning_rate):\n",
        "  \"\"\"Create and compile a simple linear regression model.\"\"\"\n",
        "  # Most simple tf.keras models are sequential.\n",
        "  model = tf.keras.models.Sequential()\n",
        "\n",
        "  # Add one linear layer to the model to yield a simple linear regressor.\n",
        "  model.add(tf.keras.layers.Dense(units=1, input_shape=(1,)))\n",
        "\n",
        "  # Compile the model topography into code that TensorFlow can efficiently\n",
        "  # execute. Configure training to minimize the model's mean squared error. \n",
        "  model.compile(optimizer=tf.keras.optimizers.experimental.RMSprop(learning_rate=my_learning_rate),\n",
        "                loss=\"mean_squared_error\",\n",
        "                metrics=[tf.keras.metrics.RootMeanSquaredError()])\n",
        "\n",
        "  return model               \n",
        "\n",
        "\n",
        "def train_model(model, df, feature, label, my_epochs, \n",
        "                my_batch_size=None, my_validation_split=0.1):\n",
        "  \"\"\"Feed a dataset into the model in order to train it.\"\"\"\n",
        "\n",
        "  history = model.fit(x=df[feature],\n",
        "                      y=df[label],\n",
        "                      batch_size=my_batch_size,\n",
        "                      epochs=my_epochs,\n",
        "                      validation_split=my_validation_split)\n",
        "\n",
        "  # Gather the model's trained weight and bias.\n",
        "  trained_weight = model.get_weights()[0]\n",
        "  trained_bias = model.get_weights()[1]\n",
        "\n",
        "  # The list of epochs is stored separately from the \n",
        "  # rest of history.\n",
        "  epochs = history.epoch\n",
        "  \n",
        "  # Isolate the root mean squared error for each epoch.\n",
        "  hist = pd.DataFrame(history.history)\n",
        "  rmse = hist[\"root_mean_squared_error\"]\n",
        "\n",
        "  return epochs, rmse, history.history   \n",
        "\n",
        "print(\"Defined the build_model and train_model functions.\")"
      ]
    },
    {
      "cell_type": "markdown",
      "metadata": {
        "id": "8gRu4Ri0D8tH"
      },
      "source": [
        "## Define plotting functions\n",
        "\n",
        "The `plot_the_loss_curve` function plots loss vs. epochs for both the training set and the validation set."
      ]
    },
    {
      "cell_type": "code",
      "execution_count": 6,
      "metadata": {
        "cellView": "form",
        "id": "QA7hsqPZDvVM"
      },
      "outputs": [
        {
          "name": "stdout",
          "output_type": "stream",
          "text": [
            "Defined the plot_the_loss_curve function.\n"
          ]
        }
      ],
      "source": [
        "#@title Define the plotting function\n",
        "\n",
        "def plot_the_loss_curve(epochs, mae_training, mae_validation):\n",
        "  \"\"\"Plot a curve of loss vs. epoch.\"\"\"\n",
        "\n",
        "  plt.figure()\n",
        "  plt.xlabel(\"Epoch\")\n",
        "  plt.ylabel(\"Root Mean Squared Error\")\n",
        "\n",
        "  plt.plot(epochs[1:], mae_training[1:], label=\"Training Loss\")\n",
        "  plt.plot(epochs[1:], mae_validation[1:], label=\"Validation Loss\")\n",
        "  plt.legend()\n",
        "  \n",
        "  # We're not going to plot the first epoch, since the loss on the first epoch\n",
        "  # is often substantially greater than the loss for other epochs.\n",
        "  merged_mae_lists = mae_training[1:] + mae_validation[1:]\n",
        "  highest_loss = max(merged_mae_lists)\n",
        "  lowest_loss = min(merged_mae_lists)\n",
        "  delta = highest_loss - lowest_loss\n",
        "  print(delta)\n",
        "\n",
        "  top_of_y_axis = highest_loss + (delta * 0.05)\n",
        "  bottom_of_y_axis = lowest_loss - (delta * 0.05)\n",
        "   \n",
        "  plt.ylim([bottom_of_y_axis, top_of_y_axis])\n",
        "  plt.show()  \n",
        "\n",
        "print(\"Defined the plot_the_loss_curve function.\")"
      ]
    },
    {
      "cell_type": "markdown",
      "metadata": {
        "id": "jipBqEQXlsN8"
      },
      "source": [
        "## Task 1: Experiment with the validation split\n",
        "\n",
        "In the following code cell, you'll see a variable named `validation_split`, which we've initialized at 0.2.  The `validation_split` variable specifies the proportion of the original training set that will serve as the validation set. The original training set contains 17,000 examples. Therefore, a `validation_split` of 0.2 means that:\n",
        "\n",
        "* 17,000 * 0.2 ~= 3,400 examples will become the validation set.\n",
        "* 17,000 * 0.8 ~= 13,600 examples will become the new training set.\n",
        "\n",
        "The following code builds a model, trains it on the training set, and evaluates the built model on both:\n",
        "\n",
        "* The training set.\n",
        "* And the validation set.\n",
        "\n",
        "If the data in the training set is similar to the data in the validation set, then the two loss curves and the final loss values should be almost identical. However, the loss curves and final loss values are **not** almost identical. Hmm, that's odd.  \n",
        "\n",
        "Experiment with two or three different values of `validation_split`.  Do different values of `validation_split` fix the problem? \n"
      ]
    },
    {
      "cell_type": "code",
      "execution_count": 7,
      "metadata": {
        "id": "knP23Taoa00a"
      },
      "outputs": [
        {
          "name": "stdout",
          "output_type": "stream",
          "text": [
            "Epoch 1/30\n",
            "136/136 [==============================] - 1s 1ms/step - loss: 37556.7773 - root_mean_squared_error: 193.7957 - val_loss: 45525.0859 - val_root_mean_squared_error: 213.3661\n",
            "Epoch 2/30\n",
            "136/136 [==============================] - 0s 726us/step - loss: 21368.1289 - root_mean_squared_error: 146.1784 - val_loss: 26372.7129 - val_root_mean_squared_error: 162.3968\n",
            "Epoch 3/30\n",
            "136/136 [==============================] - 0s 726us/step - loss: 11321.8506 - root_mean_squared_error: 106.4042 - val_loss: 14256.9014 - val_root_mean_squared_error: 119.4023\n",
            "Epoch 4/30\n",
            "136/136 [==============================] - 0s 726us/step - loss: 7030.9849 - root_mean_squared_error: 83.8510 - val_loss: 9501.6182 - val_root_mean_squared_error: 97.4762\n",
            "Epoch 5/30\n",
            "136/136 [==============================] - 0s 718us/step - loss: 6514.7769 - root_mean_squared_error: 80.7142 - val_loss: 9305.4346 - val_root_mean_squared_error: 96.4647\n",
            "Epoch 6/30\n",
            "136/136 [==============================] - 0s 733us/step - loss: 6512.8535 - root_mean_squared_error: 80.7023 - val_loss: 9240.6826 - val_root_mean_squared_error: 96.1285\n",
            "Epoch 7/30\n",
            "136/136 [==============================] - 0s 726us/step - loss: 6513.9473 - root_mean_squared_error: 80.7090 - val_loss: 9197.4727 - val_root_mean_squared_error: 95.9035\n",
            "Epoch 8/30\n",
            "136/136 [==============================] - 0s 726us/step - loss: 6514.6299 - root_mean_squared_error: 80.7133 - val_loss: 9205.0010 - val_root_mean_squared_error: 95.9427\n",
            "Epoch 9/30\n",
            "136/136 [==============================] - 0s 711us/step - loss: 6514.2017 - root_mean_squared_error: 80.7106 - val_loss: 9296.1230 - val_root_mean_squared_error: 96.4164\n",
            "Epoch 10/30\n",
            "136/136 [==============================] - 0s 726us/step - loss: 6513.3354 - root_mean_squared_error: 80.7052 - val_loss: 9319.2725 - val_root_mean_squared_error: 96.5364\n",
            "Epoch 11/30\n",
            "136/136 [==============================] - 0s 733us/step - loss: 6511.6860 - root_mean_squared_error: 80.6950 - val_loss: 9111.0645 - val_root_mean_squared_error: 95.4519\n",
            "Epoch 12/30\n",
            "136/136 [==============================] - 0s 719us/step - loss: 6513.6313 - root_mean_squared_error: 80.7071 - val_loss: 9176.0508 - val_root_mean_squared_error: 95.7917\n",
            "Epoch 13/30\n",
            "136/136 [==============================] - 0s 719us/step - loss: 6513.7856 - root_mean_squared_error: 80.7080 - val_loss: 9199.3213 - val_root_mean_squared_error: 95.9131\n",
            "Epoch 14/30\n",
            "136/136 [==============================] - 0s 733us/step - loss: 6514.0566 - root_mean_squared_error: 80.7097 - val_loss: 9296.2734 - val_root_mean_squared_error: 96.4172\n",
            "Epoch 15/30\n",
            "136/136 [==============================] - 0s 719us/step - loss: 6512.3794 - root_mean_squared_error: 80.6993 - val_loss: 9132.8984 - val_root_mean_squared_error: 95.5662\n",
            "Epoch 16/30\n",
            "136/136 [==============================] - 0s 726us/step - loss: 6514.4702 - root_mean_squared_error: 80.7123 - val_loss: 9239.6914 - val_root_mean_squared_error: 96.1233\n",
            "Epoch 17/30\n",
            "136/136 [==============================] - 0s 726us/step - loss: 6512.0146 - root_mean_squared_error: 80.6971 - val_loss: 9205.0605 - val_root_mean_squared_error: 95.9430\n",
            "Epoch 18/30\n",
            "136/136 [==============================] - 0s 733us/step - loss: 6513.1211 - root_mean_squared_error: 80.7039 - val_loss: 9211.8799 - val_root_mean_squared_error: 95.9785\n",
            "Epoch 19/30\n",
            "136/136 [==============================] - 0s 741us/step - loss: 6513.9551 - root_mean_squared_error: 80.7091 - val_loss: 9174.1680 - val_root_mean_squared_error: 95.7819\n",
            "Epoch 20/30\n",
            "136/136 [==============================] - 0s 741us/step - loss: 6513.9946 - root_mean_squared_error: 80.7093 - val_loss: 9312.1221 - val_root_mean_squared_error: 96.4993\n",
            "Epoch 21/30\n",
            "136/136 [==============================] - 0s 726us/step - loss: 6513.5640 - root_mean_squared_error: 80.7067 - val_loss: 9340.8369 - val_root_mean_squared_error: 96.6480\n",
            "Epoch 22/30\n",
            "136/136 [==============================] - 0s 719us/step - loss: 6514.3525 - root_mean_squared_error: 80.7115 - val_loss: 9306.1484 - val_root_mean_squared_error: 96.4684\n",
            "Epoch 23/30\n",
            "136/136 [==============================] - 0s 726us/step - loss: 6513.6992 - root_mean_squared_error: 80.7075 - val_loss: 9316.3789 - val_root_mean_squared_error: 96.5214\n",
            "Epoch 24/30\n",
            "136/136 [==============================] - 0s 725us/step - loss: 6513.2749 - root_mean_squared_error: 80.7049 - val_loss: 9191.7676 - val_root_mean_squared_error: 95.8737\n",
            "Epoch 25/30\n",
            "136/136 [==============================] - 0s 726us/step - loss: 6513.5166 - root_mean_squared_error: 80.7064 - val_loss: 9335.2490 - val_root_mean_squared_error: 96.6191\n",
            "Epoch 26/30\n",
            "136/136 [==============================] - 0s 726us/step - loss: 6514.2720 - root_mean_squared_error: 80.7110 - val_loss: 9254.8594 - val_root_mean_squared_error: 96.2022\n",
            "Epoch 27/30\n",
            "136/136 [==============================] - 0s 719us/step - loss: 6513.9102 - root_mean_squared_error: 80.7088 - val_loss: 9250.9912 - val_root_mean_squared_error: 96.1821\n",
            "Epoch 28/30\n",
            "136/136 [==============================] - 0s 719us/step - loss: 6513.3149 - root_mean_squared_error: 80.7051 - val_loss: 9275.1934 - val_root_mean_squared_error: 96.3078\n",
            "Epoch 29/30\n",
            "136/136 [==============================] - 0s 726us/step - loss: 6512.9995 - root_mean_squared_error: 80.7032 - val_loss: 9400.9248 - val_root_mean_squared_error: 96.9584\n",
            "Epoch 30/30\n",
            "136/136 [==============================] - 0s 726us/step - loss: 6513.9365 - root_mean_squared_error: 80.7090 - val_loss: 9269.2324 - val_root_mean_squared_error: 96.2769\n",
            "81.7017593383789\n"
          ]
        },
        {
          "data": {
            "image/png": "[encoded data removed]",
            "text/plain": [
              "<Figure size 640x480 with 1 Axes>"
            ]
          },
          "metadata": {},
          "output_type": "display_data"
        }
      ],
      "source": [
        "# The following variables are the hyperparameters.\n",
        "learning_rate = 0.08\n",
        "epochs = 30\n",
        "batch_size = 100\n",
        "\n",
        "# Split the original training set into a reduced training set and a\n",
        "# validation set. \n",
        "validation_split = 0.2\n",
        "\n",
        "# Identify the feature and the label.\n",
        "my_feature = \"median_income\"    # the median income on a specific city block.\n",
        "my_label = \"median_house_value\" # the median house value on a specific city block.\n",
        "# That is, you're going to create a model that predicts house value based \n",
        "# solely on the neighborhood's median income.  \n",
        "\n",
        "# Invoke the functions to build and train the model.\n",
        "my_model = build_model(learning_rate)\n",
        "epochs, rmse, history = train_model(my_model, train_df, my_feature, \n",
        "                                    my_label, epochs, batch_size, \n",
        "                                    validation_split)\n",
        "\n",
        "plot_the_loss_curve(epochs, history[\"root_mean_squared_error\"], \n",
        "                    history[\"val_root_mean_squared_error\"])"
      ]
    },
    {
      "cell_type": "markdown",
      "metadata": {
        "id": "TKa11JK4Pm3f"
      },
      "source": [
        "## Task 2: Determine **why** the loss curves differ\n",
        "\n",
        "No matter how you split the training set and the validation set, the loss curves differ significantly. Evidently, the data in the training set isn't similar enough to the data in the validation set. Counterintuitive? Yes, but this problem is actually pretty common in machine learning. \n",
        "\n",
        "Your task is to determine **why** the loss curves aren't highly similar. As with most issues in machine learning, the problem is rooted in the data itself. To solve this mystery of why the training set and validation set aren't almost identical, write a line or two of [pandas code](https://colab.research.google.com/github/google/eng-edu/blob/main/ml/cc/exercises/pandas_dataframe_ultraquick_tutorial.ipynb?utm_source=validation-colab&utm_medium=colab&utm_campaign=colab-external&utm_content=pandas_tf2-colab&hl=en) in the following code cell.  Here are a couple of hints:\n",
        "\n",
        "  * The previous code cell split the original training set into:\n",
        "    * a reduced training set (the original training set - the validation set)\n",
        "    * the validation set \n",
        "  * By default, the pandas [`head`](https://pandas.pydata.org/pandas-docs/stable/reference/api/pandas.DataFrame.head.html) method outputs the *first* 5 rows of the DataFrame. To see more of the training set, specify the `n` argument to `head` and assign a large positive integer to `n`."
      ]
    },
    {
      "cell_type": "code",
      "execution_count": 8,
      "metadata": {
        "id": "VJQcAZkwJt_p"
      },
      "outputs": [],
      "source": [
        "# Write some code in this code cell."
      ]
    },
    {
      "cell_type": "code",
      "execution_count": 9,
      "metadata": {
        "cellView": "form",
        "id": "EnNvkFwwK8WY"
      },
      "outputs": [
        {
          "data": {
            "text/html": [
              "<div>\n",
              "<style scoped>\n",
              "    .dataframe tbody tr th:only-of-type {\n",
              "        vertical-align: middle;\n",
              "    }\n",
              "\n",
              "    .dataframe tbody tr th {\n",
              "        vertical-align: top;\n",
              "    }\n",
              "\n",
              "    .dataframe thead th {\n",
              "        text-align: right;\n",
              "    }\n",
              "</style>\n",
              "<table border=\"1\" class=\"dataframe\">\n",
              "  <thead>\n",
              "    <tr style=\"text-align: right;\">\n",
              "      <th></th>\n",
              "      <th>longitude</th>\n",
              "      <th>latitude</th>\n",
              "      <th>housing_median_age</th>\n",
              "      <th>total_rooms</th>\n",
              "      <th>total_bedrooms</th>\n",
              "      <th>population</th>\n",
              "      <th>households</th>\n",
              "      <th>median_income</th>\n",
              "      <th>median_house_value</th>\n",
              "    </tr>\n",
              "  </thead>\n",
              "  <tbody>\n",
              "    <tr>\n",
              "      <th>0</th>\n",
              "      <td>-114.3</td>\n",
              "      <td>34.2</td>\n",
              "      <td>15.0</td>\n",
              "      <td>5612.0</td>\n",
              "      <td>1283.0</td>\n",
              "      <td>1015.0</td>\n",
              "      <td>472.0</td>\n",
              "      <td>1.5</td>\n",
              "      <td>66.9</td>\n",
              "    </tr>\n",
              "    <tr>\n",
              "      <th>1</th>\n",
              "      <td>-114.5</td>\n",
              "      <td>34.4</td>\n",
              "      <td>19.0</td>\n",
              "      <td>7650.0</td>\n",
              "      <td>1901.0</td>\n",
              "      <td>1129.0</td>\n",
              "      <td>463.0</td>\n",
              "      <td>1.8</td>\n",
              "      <td>80.1</td>\n",
              "    </tr>\n",
              "    <tr>\n",
              "      <th>2</th>\n",
              "      <td>-114.6</td>\n",
              "      <td>33.7</td>\n",
              "      <td>17.0</td>\n",
              "      <td>720.0</td>\n",
              "      <td>174.0</td>\n",
              "      <td>333.0</td>\n",
              "      <td>117.0</td>\n",
              "      <td>1.7</td>\n",
              "      <td>85.7</td>\n",
              "    </tr>\n",
              "    <tr>\n",
              "      <th>3</th>\n",
              "      <td>-114.6</td>\n",
              "      <td>33.6</td>\n",
              "      <td>14.0</td>\n",
              "      <td>1501.0</td>\n",
              "      <td>337.0</td>\n",
              "      <td>515.0</td>\n",
              "      <td>226.0</td>\n",
              "      <td>3.2</td>\n",
              "      <td>73.4</td>\n",
              "    </tr>\n",
              "    <tr>\n",
              "      <th>4</th>\n",
              "      <td>-114.6</td>\n",
              "      <td>33.6</td>\n",
              "      <td>20.0</td>\n",
              "      <td>1454.0</td>\n",
              "      <td>326.0</td>\n",
              "      <td>624.0</td>\n",
              "      <td>262.0</td>\n",
              "      <td>1.9</td>\n",
              "      <td>65.5</td>\n",
              "    </tr>\n",
              "    <tr>\n",
              "      <th>...</th>\n",
              "      <td>...</td>\n",
              "      <td>...</td>\n",
              "      <td>...</td>\n",
              "      <td>...</td>\n",
              "      <td>...</td>\n",
              "      <td>...</td>\n",
              "      <td>...</td>\n",
              "      <td>...</td>\n",
              "      <td>...</td>\n",
              "    </tr>\n",
              "    <tr>\n",
              "      <th>995</th>\n",
              "      <td>-117.1</td>\n",
              "      <td>32.5</td>\n",
              "      <td>8.0</td>\n",
              "      <td>6533.0</td>\n",
              "      <td>1217.0</td>\n",
              "      <td>4797.0</td>\n",
              "      <td>1177.0</td>\n",
              "      <td>4.0</td>\n",
              "      <td>144.4</td>\n",
              "    </tr>\n",
              "    <tr>\n",
              "      <th>996</th>\n",
              "      <td>-117.1</td>\n",
              "      <td>34.6</td>\n",
              "      <td>6.0</td>\n",
              "      <td>5110.0</td>\n",
              "      <td>1044.0</td>\n",
              "      <td>1938.0</td>\n",
              "      <td>724.0</td>\n",
              "      <td>3.2</td>\n",
              "      <td>112.8</td>\n",
              "    </tr>\n",
              "    <tr>\n",
              "      <th>997</th>\n",
              "      <td>-117.1</td>\n",
              "      <td>34.2</td>\n",
              "      <td>22.0</td>\n",
              "      <td>4397.0</td>\n",
              "      <td>931.0</td>\n",
              "      <td>1145.0</td>\n",
              "      <td>445.0</td>\n",
              "      <td>4.5</td>\n",
              "      <td>108.4</td>\n",
              "    </tr>\n",
              "    <tr>\n",
              "      <th>998</th>\n",
              "      <td>-117.1</td>\n",
              "      <td>34.0</td>\n",
              "      <td>24.0</td>\n",
              "      <td>4144.0</td>\n",
              "      <td>826.0</td>\n",
              "      <td>2127.0</td>\n",
              "      <td>772.0</td>\n",
              "      <td>2.5</td>\n",
              "      <td>96.0</td>\n",
              "    </tr>\n",
              "    <tr>\n",
              "      <th>999</th>\n",
              "      <td>-117.1</td>\n",
              "      <td>33.6</td>\n",
              "      <td>6.0</td>\n",
              "      <td>1868.0</td>\n",
              "      <td>289.0</td>\n",
              "      <td>750.0</td>\n",
              "      <td>247.0</td>\n",
              "      <td>4.4</td>\n",
              "      <td>307.6</td>\n",
              "    </tr>\n",
              "  </tbody>\n",
              "</table>\n",
              "<p>1000 rows × 9 columns</p>\n",
              "</div>"
            ],
            "text/plain": [
              "     longitude  latitude  housing_median_age  total_rooms  total_bedrooms  \\\n",
              "0       -114.3      34.2                15.0       5612.0          1283.0   \n",
              "1       -114.5      34.4                19.0       7650.0          1901.0   \n",
              "2       -114.6      33.7                17.0        720.0           174.0   \n",
              "3       -114.6      33.6                14.0       1501.0           337.0   \n",
              "4       -114.6      33.6                20.0       1454.0           326.0   \n",
              "..         ...       ...                 ...          ...             ...   \n",
              "995     -117.1      32.5                 8.0       6533.0          1217.0   \n",
              "996     -117.1      34.6                 6.0       5110.0          1044.0   \n",
              "997     -117.1      34.2                22.0       4397.0           931.0   \n",
              "998     -117.1      34.0                24.0       4144.0           826.0   \n",
              "999     -117.1      33.6                 6.0       1868.0           289.0   \n",
              "\n",
              "     population  households  median_income  median_house_value  \n",
              "0        1015.0       472.0            1.5                66.9  \n",
              "1        1129.0       463.0            1.8                80.1  \n",
              "2         333.0       117.0            1.7                85.7  \n",
              "3         515.0       226.0            3.2                73.4  \n",
              "4         624.0       262.0            1.9                65.5  \n",
              "..          ...         ...            ...                 ...  \n",
              "995      4797.0      1177.0            4.0               144.4  \n",
              "996      1938.0       724.0            3.2               112.8  \n",
              "997      1145.0       445.0            4.5               108.4  \n",
              "998      2127.0       772.0            2.5                96.0  \n",
              "999       750.0       247.0            4.4               307.6  \n",
              "\n",
              "[1000 rows x 9 columns]"
            ]
          },
          "execution_count": 9,
          "metadata": {},
          "output_type": "execute_result"
        }
      ],
      "source": [
        "#@title Double-click for a possible solution to Task 2.\n",
        "\n",
        "# Examine examples 0 through 4 and examples 995 through 999\n",
        "# of the training set\n",
        "train_df.head(n=1000)\n",
        "\n",
        "# The original training set is sorted by longitude. \n",
        "# Apparently, longitude influences the relationship of\n",
        "# total_rooms to median_house_value."
      ]
    },
    {
      "cell_type": "markdown",
      "metadata": {
        "id": "rw4xI1ZEckI8"
      },
      "source": [
        "## Task 3. Fix the problem\n",
        "\n",
        "To fix the problem, shuffle the examples in the training set before splitting the examples into a training set and validation set. To do so, take the following steps:\n",
        "\n",
        "1. Shuffle the data in the training set by adding the following line anywhere before you call `train_model` (in the code cell associated with Task 1):\n",
        "\n",
        "```\n",
        "  shuffled_train_df = train_df.reindex(np.random.permutation(train_df.index))\n",
        "```                                    \n",
        "\n",
        "2. Pass `shuffled_train_df` (instead of `train_df`) as the second argument to `train_model` (in the code call associated with Task 1) so that the call becomes as follows:\n",
        "\n",
        "```\n",
        "  epochs, rmse, history = train_model(my_model, shuffled_train_df, my_feature, \n",
        "                                      my_label, epochs, batch_size, \n",
        "                                      validation_split)\n",
        "```"
      ]
    },
    {
      "cell_type": "code",
      "execution_count": 10,
      "metadata": {
        "cellView": "form",
        "id": "ncODhpv0h-LG"
      },
      "outputs": [
        {
          "name": "stdout",
          "output_type": "stream",
          "text": [
            "Epoch 1/70\n",
            "136/136 [==============================] - 0s 1ms/step - loss: 44532.6055 - root_mean_squared_error: 211.0275 - val_loss: 34276.5000 - val_root_mean_squared_error: 185.1391\n",
            "Epoch 2/70\n",
            "136/136 [==============================] - 0s 733us/step - loss: 26160.5645 - root_mean_squared_error: 161.7423 - val_loss: 19042.3750 - val_root_mean_squared_error: 137.9941\n",
            "Epoch 3/70\n",
            "136/136 [==============================] - 0s 734us/step - loss: 14113.3398 - root_mean_squared_error: 118.7996 - val_loss: 10058.3320 - val_root_mean_squared_error: 100.2912\n",
            "Epoch 4/70\n",
            "136/136 [==============================] - 0s 721us/step - loss: 8187.7729 - root_mean_squared_error: 90.4863 - val_loss: 7044.1201 - val_root_mean_squared_error: 83.9293\n",
            "Epoch 5/70\n",
            "136/136 [==============================] - 0s 741us/step - loss: 7023.4443 - root_mean_squared_error: 83.8060 - val_loss: 6991.4600 - val_root_mean_squared_error: 83.6150\n",
            "Epoch 6/70\n",
            "136/136 [==============================] - 0s 733us/step - loss: 7022.8936 - root_mean_squared_error: 83.8027 - val_loss: 6989.5205 - val_root_mean_squared_error: 83.6034\n",
            "Epoch 7/70\n",
            "136/136 [==============================] - 0s 723us/step - loss: 7023.0254 - root_mean_squared_error: 83.8035 - val_loss: 6986.3813 - val_root_mean_squared_error: 83.5846\n",
            "Epoch 8/70\n",
            "136/136 [==============================] - 0s 733us/step - loss: 7021.9648 - root_mean_squared_error: 83.7972 - val_loss: 6984.2524 - val_root_mean_squared_error: 83.5718\n",
            "Epoch 9/70\n",
            "136/136 [==============================] - 0s 725us/step - loss: 7021.2720 - root_mean_squared_error: 83.7930 - val_loss: 6983.9341 - val_root_mean_squared_error: 83.5699\n",
            "Epoch 10/70\n",
            "136/136 [==============================] - 0s 726us/step - loss: 7022.3330 - root_mean_squared_error: 83.7994 - val_loss: 6983.8247 - val_root_mean_squared_error: 83.5693\n",
            "Epoch 11/70\n",
            "136/136 [==============================] - 0s 733us/step - loss: 7023.2896 - root_mean_squared_error: 83.8051 - val_loss: 6984.3076 - val_root_mean_squared_error: 83.5722\n",
            "Epoch 12/70\n",
            "136/136 [==============================] - 0s 733us/step - loss: 7021.9224 - root_mean_squared_error: 83.7969 - val_loss: 6990.6821 - val_root_mean_squared_error: 83.6103\n",
            "Epoch 13/70\n",
            "136/136 [==============================] - 0s 733us/step - loss: 7021.3315 - root_mean_squared_error: 83.7934 - val_loss: 6985.3965 - val_root_mean_squared_error: 83.5787\n",
            "Epoch 14/70\n",
            "136/136 [==============================] - 0s 726us/step - loss: 7020.1494 - root_mean_squared_error: 83.7863 - val_loss: 6984.7363 - val_root_mean_squared_error: 83.5747\n",
            "Epoch 15/70\n",
            "136/136 [==============================] - 0s 741us/step - loss: 7022.1377 - root_mean_squared_error: 83.7982 - val_loss: 6983.9673 - val_root_mean_squared_error: 83.5701\n",
            "Epoch 16/70\n",
            "136/136 [==============================] - 0s 739us/step - loss: 7022.3955 - root_mean_squared_error: 83.7997 - val_loss: 6983.8110 - val_root_mean_squared_error: 83.5692\n",
            "Epoch 17/70\n",
            "136/136 [==============================] - 0s 741us/step - loss: 7021.8506 - root_mean_squared_error: 83.7965 - val_loss: 6984.0640 - val_root_mean_squared_error: 83.5707\n",
            "Epoch 18/70\n",
            "136/136 [==============================] - 0s 733us/step - loss: 7021.7422 - root_mean_squared_error: 83.7958 - val_loss: 6984.3926 - val_root_mean_squared_error: 83.5727\n",
            "Epoch 19/70\n",
            "136/136 [==============================] - 0s 719us/step - loss: 7021.9346 - root_mean_squared_error: 83.7970 - val_loss: 6984.5449 - val_root_mean_squared_error: 83.5736\n",
            "Epoch 20/70\n",
            "136/136 [==============================] - 0s 726us/step - loss: 7021.4492 - root_mean_squared_error: 83.7941 - val_loss: 6989.0522 - val_root_mean_squared_error: 83.6006\n",
            "Epoch 21/70\n",
            "136/136 [==============================] - 0s 741us/step - loss: 7021.6963 - root_mean_squared_error: 83.7956 - val_loss: 6986.1460 - val_root_mean_squared_error: 83.5832\n",
            "Epoch 22/70\n",
            "136/136 [==============================] - 0s 733us/step - loss: 7022.1387 - root_mean_squared_error: 83.7982 - val_loss: 6986.3965 - val_root_mean_squared_error: 83.5847\n",
            "Epoch 23/70\n",
            "136/136 [==============================] - 0s 740us/step - loss: 7021.1064 - root_mean_squared_error: 83.7920 - val_loss: 6983.9658 - val_root_mean_squared_error: 83.5701\n",
            "Epoch 24/70\n",
            "136/136 [==============================] - 0s 726us/step - loss: 7021.9517 - root_mean_squared_error: 83.7971 - val_loss: 6984.1958 - val_root_mean_squared_error: 83.5715\n",
            "Epoch 25/70\n",
            "136/136 [==============================] - 0s 726us/step - loss: 7021.1270 - root_mean_squared_error: 83.7922 - val_loss: 6989.9961 - val_root_mean_squared_error: 83.6062\n",
            "Epoch 26/70\n",
            "136/136 [==============================] - 0s 726us/step - loss: 7021.9854 - root_mean_squared_error: 83.7973 - val_loss: 6983.9883 - val_root_mean_squared_error: 83.5703\n",
            "Epoch 27/70\n",
            "136/136 [==============================] - 0s 726us/step - loss: 7021.2637 - root_mean_squared_error: 83.7930 - val_loss: 6985.2402 - val_root_mean_squared_error: 83.5778\n",
            "Epoch 28/70\n",
            "136/136 [==============================] - 0s 726us/step - loss: 7022.4565 - root_mean_squared_error: 83.8001 - val_loss: 6985.6689 - val_root_mean_squared_error: 83.5803\n",
            "Epoch 29/70\n",
            "136/136 [==============================] - 0s 733us/step - loss: 7022.3247 - root_mean_squared_error: 83.7993 - val_loss: 6983.9424 - val_root_mean_squared_error: 83.5700\n",
            "Epoch 30/70\n",
            "136/136 [==============================] - 0s 756us/step - loss: 7021.9092 - root_mean_squared_error: 83.7968 - val_loss: 6985.4102 - val_root_mean_squared_error: 83.5788\n",
            "Epoch 31/70\n",
            "136/136 [==============================] - 0s 726us/step - loss: 7023.2549 - root_mean_squared_error: 83.8049 - val_loss: 6984.3735 - val_root_mean_squared_error: 83.5726\n",
            "Epoch 32/70\n",
            "136/136 [==============================] - 0s 748us/step - loss: 7021.6060 - root_mean_squared_error: 83.7950 - val_loss: 6984.2100 - val_root_mean_squared_error: 83.5716\n",
            "Epoch 33/70\n",
            "136/136 [==============================] - 0s 784us/step - loss: 7021.7837 - root_mean_squared_error: 83.7961 - val_loss: 6984.1226 - val_root_mean_squared_error: 83.5711\n",
            "Epoch 34/70\n",
            "136/136 [==============================] - 0s 822us/step - loss: 7022.1030 - root_mean_squared_error: 83.7980 - val_loss: 6986.2290 - val_root_mean_squared_error: 83.5837\n",
            "Epoch 35/70\n",
            "136/136 [==============================] - 0s 770us/step - loss: 7021.9292 - root_mean_squared_error: 83.7970 - val_loss: 6986.6333 - val_root_mean_squared_error: 83.5861\n",
            "Epoch 36/70\n",
            "136/136 [==============================] - 0s 731us/step - loss: 7021.3501 - root_mean_squared_error: 83.7935 - val_loss: 6985.7905 - val_root_mean_squared_error: 83.5810\n",
            "Epoch 37/70\n",
            "136/136 [==============================] - 0s 733us/step - loss: 7021.1841 - root_mean_squared_error: 83.7925 - val_loss: 6989.2339 - val_root_mean_squared_error: 83.6016\n",
            "Epoch 38/70\n",
            "136/136 [==============================] - 0s 743us/step - loss: 7018.8804 - root_mean_squared_error: 83.7788 - val_loss: 6984.1396 - val_root_mean_squared_error: 83.5712\n",
            "Epoch 39/70\n",
            "136/136 [==============================] - 0s 756us/step - loss: 7021.5972 - root_mean_squared_error: 83.7950 - val_loss: 6984.1748 - val_root_mean_squared_error: 83.5714\n",
            "Epoch 40/70\n",
            "136/136 [==============================] - 0s 733us/step - loss: 7022.5181 - root_mean_squared_error: 83.8005 - val_loss: 6985.5405 - val_root_mean_squared_error: 83.5795\n",
            "Epoch 41/70\n",
            "136/136 [==============================] - 0s 741us/step - loss: 7022.1157 - root_mean_squared_error: 83.7981 - val_loss: 6984.2100 - val_root_mean_squared_error: 83.5716\n",
            "Epoch 42/70\n",
            "136/136 [==============================] - 0s 758us/step - loss: 7021.6675 - root_mean_squared_error: 83.7954 - val_loss: 6985.0811 - val_root_mean_squared_error: 83.5768\n",
            "Epoch 43/70\n",
            "136/136 [==============================] - 0s 733us/step - loss: 7022.0684 - root_mean_squared_error: 83.7978 - val_loss: 6983.8955 - val_root_mean_squared_error: 83.5697\n",
            "Epoch 44/70\n",
            "136/136 [==============================] - 0s 756us/step - loss: 7021.5605 - root_mean_squared_error: 83.7948 - val_loss: 6985.8667 - val_root_mean_squared_error: 83.5815\n",
            "Epoch 45/70\n",
            "136/136 [==============================] - 0s 741us/step - loss: 7021.3975 - root_mean_squared_error: 83.7938 - val_loss: 6983.8481 - val_root_mean_squared_error: 83.5694\n",
            "Epoch 46/70\n",
            "136/136 [==============================] - 0s 748us/step - loss: 7021.2192 - root_mean_squared_error: 83.7927 - val_loss: 6984.5151 - val_root_mean_squared_error: 83.5734\n",
            "Epoch 47/70\n",
            "136/136 [==============================] - 0s 815us/step - loss: 7021.3740 - root_mean_squared_error: 83.7936 - val_loss: 6983.9678 - val_root_mean_squared_error: 83.5701\n",
            "Epoch 48/70\n",
            "136/136 [==============================] - 0s 748us/step - loss: 7019.5410 - root_mean_squared_error: 83.7827 - val_loss: 6995.5400 - val_root_mean_squared_error: 83.6393\n",
            "Epoch 49/70\n",
            "136/136 [==============================] - 0s 748us/step - loss: 7022.2461 - root_mean_squared_error: 83.7988 - val_loss: 6984.6743 - val_root_mean_squared_error: 83.5744\n",
            "Epoch 50/70\n",
            "136/136 [==============================] - 0s 726us/step - loss: 7023.1055 - root_mean_squared_error: 83.8040 - val_loss: 6986.4336 - val_root_mean_squared_error: 83.5849\n",
            "Epoch 51/70\n",
            "136/136 [==============================] - 0s 733us/step - loss: 7021.9282 - root_mean_squared_error: 83.7969 - val_loss: 6983.8730 - val_root_mean_squared_error: 83.5696\n",
            "Epoch 52/70\n",
            "136/136 [==============================] - 0s 705us/step - loss: 7022.0483 - root_mean_squared_error: 83.7977 - val_loss: 6985.6616 - val_root_mean_squared_error: 83.5803\n",
            "Epoch 53/70\n",
            "136/136 [==============================] - 0s 726us/step - loss: 7022.1143 - root_mean_squared_error: 83.7981 - val_loss: 6988.4580 - val_root_mean_squared_error: 83.5970\n",
            "Epoch 54/70\n",
            "136/136 [==============================] - 0s 733us/step - loss: 7022.3540 - root_mean_squared_error: 83.7995 - val_loss: 6984.4854 - val_root_mean_squared_error: 83.5732\n",
            "Epoch 55/70\n",
            "136/136 [==============================] - 0s 726us/step - loss: 7021.4395 - root_mean_squared_error: 83.7940 - val_loss: 6983.9819 - val_root_mean_squared_error: 83.5702\n",
            "Epoch 56/70\n",
            "136/136 [==============================] - 0s 732us/step - loss: 7020.9160 - root_mean_squared_error: 83.7909 - val_loss: 6987.5815 - val_root_mean_squared_error: 83.5918\n",
            "Epoch 57/70\n",
            "136/136 [==============================] - 0s 740us/step - loss: 7020.5117 - root_mean_squared_error: 83.7885 - val_loss: 6986.3706 - val_root_mean_squared_error: 83.5845\n",
            "Epoch 58/70\n",
            "136/136 [==============================] - 0s 757us/step - loss: 7021.8530 - root_mean_squared_error: 83.7965 - val_loss: 6984.0654 - val_root_mean_squared_error: 83.5707\n",
            "Epoch 59/70\n",
            "136/136 [==============================] - 0s 789us/step - loss: 7022.9624 - root_mean_squared_error: 83.8031 - val_loss: 6985.3047 - val_root_mean_squared_error: 83.5781\n",
            "Epoch 60/70\n",
            "136/136 [==============================] - 0s 770us/step - loss: 7021.6860 - root_mean_squared_error: 83.7955 - val_loss: 6986.3281 - val_root_mean_squared_error: 83.5843\n",
            "Epoch 61/70\n",
            "136/136 [==============================] - 0s 741us/step - loss: 7022.3184 - root_mean_squared_error: 83.7993 - val_loss: 6984.8784 - val_root_mean_squared_error: 83.5756\n",
            "Epoch 62/70\n",
            "136/136 [==============================] - 0s 778us/step - loss: 7022.5400 - root_mean_squared_error: 83.8006 - val_loss: 6983.9219 - val_root_mean_squared_error: 83.5699\n",
            "Epoch 63/70\n",
            "136/136 [==============================] - 0s 801us/step - loss: 7021.0181 - root_mean_squared_error: 83.7915 - val_loss: 6989.5459 - val_root_mean_squared_error: 83.6035\n",
            "Epoch 64/70\n",
            "136/136 [==============================] - 0s 748us/step - loss: 7022.9062 - root_mean_squared_error: 83.8028 - val_loss: 6986.8125 - val_root_mean_squared_error: 83.5872\n",
            "Epoch 65/70\n",
            "136/136 [==============================] - 0s 741us/step - loss: 7021.6982 - root_mean_squared_error: 83.7956 - val_loss: 6983.9717 - val_root_mean_squared_error: 83.5702\n",
            "Epoch 66/70\n",
            "136/136 [==============================] - 0s 741us/step - loss: 7022.3198 - root_mean_squared_error: 83.7993 - val_loss: 6984.0898 - val_root_mean_squared_error: 83.5709\n",
            "Epoch 67/70\n",
            "136/136 [==============================] - 0s 726us/step - loss: 7022.0142 - root_mean_squared_error: 83.7975 - val_loss: 6990.2905 - val_root_mean_squared_error: 83.6080\n",
            "Epoch 68/70\n",
            "136/136 [==============================] - 0s 733us/step - loss: 7022.5640 - root_mean_squared_error: 83.8007 - val_loss: 6983.9487 - val_root_mean_squared_error: 83.5700\n",
            "Epoch 69/70\n",
            "136/136 [==============================] - 0s 748us/step - loss: 7020.9375 - root_mean_squared_error: 83.7910 - val_loss: 6984.9990 - val_root_mean_squared_error: 83.5763\n",
            "Epoch 70/70\n",
            "136/136 [==============================] - 0s 763us/step - loss: 7021.7104 - root_mean_squared_error: 83.7956 - val_loss: 6985.1299 - val_root_mean_squared_error: 83.5771\n",
            "78.17308044433594\n"
          ]
        },
        {
          "data": {
            "image/png": "[encoded data removed]",
            "text/plain": [
              "<Figure size 640x480 with 1 Axes>"
            ]
          },
          "metadata": {},
          "output_type": "display_data"
        }
      ],
      "source": [
        "#@title Double-click to view the complete implementation.\n",
        "\n",
        "# The following variables are the hyperparameters.\n",
        "learning_rate = 0.08\n",
        "epochs = 70\n",
        "batch_size = 100\n",
        "\n",
        "# Split the original training set into a reduced training set and a\n",
        "# validation set. \n",
        "validation_split = 0.2\n",
        "\n",
        "# Identify the feature and the label.\n",
        "my_feature = \"median_income\"    # the median income on a specific city block.\n",
        "my_label = \"median_house_value\" # the median house value on a specific city block.\n",
        "# That is, you're going to create a model that predicts house value based \n",
        "# solely on the neighborhood's median income.  \n",
        "\n",
        "# Shuffle the examples.\n",
        "shuffled_train_df = train_df.reindex(np.random.permutation(train_df.index)) \n",
        "\n",
        "# Invoke the functions to build and train the model. Train on the shuffled\n",
        "# training set.\n",
        "my_model = build_model(learning_rate)\n",
        "epochs, rmse, history = train_model(my_model, shuffled_train_df, my_feature, \n",
        "                                    my_label, epochs, batch_size, \n",
        "                                    validation_split)\n",
        "\n",
        "plot_the_loss_curve(epochs, history[\"root_mean_squared_error\"], \n",
        "                    history[\"val_root_mean_squared_error\"])"
      ]
    },
    {
      "cell_type": "markdown",
      "metadata": {
        "id": "tKN239_miW8C"
      },
      "source": [
        "Experiment with `validation_split` to answer the following questions:\n",
        "\n",
        "* With the training set shuffled, is the final loss for the training set closer to the final loss for the validation set?  \n",
        "* At what range of values of `validation_split` do the final loss values for the training set and validation set diverge meaningfully?  Why?"
      ]
    },
    {
      "cell_type": "code",
      "execution_count": 11,
      "metadata": {
        "cellView": "form",
        "id": "-UAJ3Q86iz31"
      },
      "outputs": [],
      "source": [
        "#@title Double-click for the answers to the questions\n",
        "\n",
        "# Yes, after shuffling the original training set, \n",
        "# the final loss for the training set and the \n",
        "# validation set become much closer.\n",
        "\n",
        "# If validation_split < 0.15,\n",
        "# the final loss values for the training set and\n",
        "# validation set diverge meaningfully.  Apparently,\n",
        "# the validation set no longer contains enough examples. "
      ]
    },
    {
      "cell_type": "markdown",
      "metadata": {
        "id": "1PP-O8TOZOeo"
      },
      "source": [
        "## Task 4: Use the Test Dataset to Evaluate Your Model's Performance\n",
        "\n",
        "The test set usually acts as the ultimate judge of a model's quality. The test set can serve as an impartial judge because its examples haven't been used in training the model. Run the following code cell to evaluate the model with the test set:"
      ]
    },
    {
      "cell_type": "code",
      "execution_count": 12,
      "metadata": {
        "id": "nd_Sw2cygOip"
      },
      "outputs": [
        {
          "name": "stdout",
          "output_type": "stream",
          "text": [
            "30/30 [==============================] - 0s 586us/step - loss: 7008.9146 - root_mean_squared_error: 83.7193\n"
          ]
        }
      ],
      "source": [
        "x_test = test_df[my_feature]\n",
        "y_test = test_df[my_label]\n",
        "\n",
        "results = my_model.evaluate(x_test, y_test, batch_size=batch_size)"
      ]
    },
    {
      "cell_type": "markdown",
      "metadata": {
        "id": "qoyQKvsjmV_A"
      },
      "source": [
        "Compare the root mean squared error of the model when evaluated on each of the three datasets:\n",
        "\n",
        "* training set: look for `root_mean_squared_error` in the final training epoch.\n",
        "* validation set: look for `val_root_mean_squared_error` in the final training epoch.\n",
        "* test set: run the preceding code cell and examine the `root_mean_squared_error`.\n",
        "\n",
        "Ideally, the root mean squared error of all three sets should be similar. Are they?"
      ]
    },
    {
      "cell_type": "code",
      "execution_count": 13,
      "metadata": {
        "cellView": "form",
        "id": "FxXtp-aVdIgJ"
      },
      "outputs": [],
      "source": [
        "#@title Double-click for an answer\n",
        "\n",
        "# In our experiments, yes, the rmse values \n",
        "# were similar enough. "
      ]
    }
  ],
  "metadata": {
    "colab": {
      "name": "Validation and Test Sets.ipynb",
      "private_outputs": true,
      "provenance": []
    },
    "kernelspec": {
      "display_name": "Python 3",
      "name": "python3"
    },
    "language_info": {
      "codemirror_mode": {
        "name": "ipython",
        "version": 3
      },
      "file_extension": ".py",
      "mimetype": "text/x-python",
      "name": "python",
      "nbconvert_exporter": "python",
      "pygments_lexer": "ipython3",
      "version": "3.11.2"
    }
  },
  "nbformat": 4,
  "nbformat_minor": 0
}
