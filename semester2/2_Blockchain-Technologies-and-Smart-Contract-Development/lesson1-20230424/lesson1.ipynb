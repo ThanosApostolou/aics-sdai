{
 "cells": [
  {
   "cell_type": "code",
   "execution_count": 19,
   "metadata": {},
   "outputs": [
    {
     "name": "stdout",
     "output_type": "stream",
     "text": [
      "0.02608405330458885\n",
      "314.08\n"
     ]
    },
    {
     "data": {
      "text/plain": [
       "18"
      ]
     },
     "execution_count": 19,
     "metadata": {},
     "output_type": "execute_result"
    }
   ],
   "source": [
    "import hashlib\n",
    "import random\n",
    "import string\n",
    "\n",
    "\n",
    "def rnd_word(L=16):\n",
    "    tmp=[random.choice(string.ascii_letters + string.digits) for i in range(L)]\n",
    "    return \"\".join(tmp)\n",
    "\n",
    "\n",
    "def hashme(x: str):\n",
    "    return hashlib.sha256(x.encode()).hexdigest()\n",
    "\n",
    "\n",
    "\n",
    "\n",
    "rnd_word()\n",
    "hashme(\"costas\")\n",
    "\n",
    "s: list[int] = []\n",
    "for i in range(100):\n",
    "    cnt = 0\n",
    "    while True:\n",
    "        cnt += 1\n",
    "        tmp = rnd_word()\n",
    "        if hashme(tmp)[-2:] == \"a3\":\n",
    "            # print(\"Found: \", tmp, hashme(tmp), cnt)\n",
    "            s.append(cnt)\n",
    "            break\n",
    "\n",
    "\n",
    "print(pow(5/6, 20))\n",
    "\n",
    "print(sum(s)/100)\n",
    "16^2"
   ]
  },
  {
   "cell_type": "code",
   "execution_count": 20,
   "metadata": {},
   "outputs": [
    {
     "data": {
      "text/plain": [
       "18"
      ]
     },
     "execution_count": 20,
     "metadata": {},
     "output_type": "execute_result"
    }
   ],
   "source": [
    "16^2"
   ]
  }
 ],
 "metadata": {
  "kernelspec": {
   "display_name": "Python 3",
   "language": "python",
   "name": "python3"
  },
  "language_info": {
   "codemirror_mode": {
    "name": "ipython",
    "version": 3
   },
   "file_extension": ".py",
   "mimetype": "text/x-python",
   "name": "python",
   "nbconvert_exporter": "python",
   "pygments_lexer": "ipython3",
   "version": "3.11.2"
  },
  "orig_nbformat": 4,
  "vscode": {
   "interpreter": {
    "hash": "83c1c3478ebe57c88f9b61b69924776ab3996395fa2a23281b35ec5fac0009ee"
   }
  }
 },
 "nbformat": 4,
 "nbformat_minor": 2
}
